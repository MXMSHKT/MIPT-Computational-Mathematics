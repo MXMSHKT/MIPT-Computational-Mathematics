{
 "cells": [
  {
   "cell_type": "code",
   "execution_count": 4,
   "metadata": {
    "collapsed": true
   },
   "outputs": [
    {
     "name": "stdout",
     "output_type": "stream",
     "text": [
      "L matrix:\n",
      " [[ 1.00000000e+00  0.00000000e+00  0.00000000e+00]\n",
      " [-5.00000000e-01  1.00000000e+00  0.00000000e+00]\n",
      " [ 5.00000000e-17  6.66666667e-01  1.00000000e+00]]\n",
      "\n",
      "U matrix:\n",
      " [[ 2.         -1.          0.        ]\n",
      " [ 0.          1.5        -1.        ]\n",
      " [ 0.          0.         -0.33333333]]\n",
      "\n",
      "Решение СЛАУ: [1. 1. 1.]\n"
     ]
    }
   ],
   "source": [
    "import sympy as sp\n",
    "import numpy as np\n",
    "import numpy.linalg as la\n",
    "\n",
    "def LU_decomposition(A):\n",
    "    n = len(A)\n",
    "    L = np.zeros((n,n))\n",
    "    U = np.zeros((n,n))\n",
    "\n",
    "    for j in range(n):\n",
    "        L[j][j] = 1\n",
    "\n",
    "        for i in range(j+1):\n",
    "            s1 = 0\n",
    "            for k in range(i):\n",
    "                s1 += U[k][j] * L[i][k]\n",
    "            U[i][j] = A[i][j] - s1\n",
    "\n",
    "        for i in range(j, n):\n",
    "            s2 = 0\n",
    "            for k in range (j):\n",
    "                s2 += U[k][j] * L[i][k]\n",
    "            L[i][j] = (A[i][j] - s2) / U[j][j]\n",
    "\n",
    "    return (L,U)\n",
    "\n",
    "def solve( A, b ):\n",
    "    n = b.size\n",
    "    b = np.array(b,float)\n",
    "    for i in range(1,n):\n",
    "        b[i]=b[i] - np.dot(A[i,:i],b[:i])\n",
    "    for k in range(n-1,-1,-1):\n",
    "        b[k] = (b[k] - np.dot(A[k,k+1:n],b[k+1:n]))/A[k,k];\n",
    "\n",
    "    return b\n",
    "\n",
    "\n",
    "A2 = np.array([[2., -1., 0.], [-1., 2., -1.], [1e-16, 1., -1.]])\n",
    "b2 = np.array([1., 0., 0.])\n",
    "L, U = LU_decomposition(A2)\n",
    "\n",
    "#A3 =  sp.Matrix([[2., -1., 0.], [-1., 2., -1.], [1e-16, 1., -1.]])\n",
    "#b3 = sp.Matrix([1., 0., 0.])\n",
    "#L2, U2, _ = A3.LUdecomposition()\n",
    "\n",
    "y = solve(L,b2)\n",
    "x = solve(U,y)\n",
    "#print(\"L2 matrix:\\n\",L2)\n",
    "#print(\"\\nU2 matrix:\\n\",U2)\n",
    "\n",
    "print(\"L matrix:\\n\",L)\n",
    "print(\"\\nU matrix:\\n\",U)\n",
    "print(\"\\nРешение СЛАУ:\",x)\n"
   ]
  }
 ],
 "metadata": {
  "kernelspec": {
   "display_name": "Python 3",
   "language": "python",
   "name": "python3"
  },
  "language_info": {
   "codemirror_mode": {
    "name": "ipython",
    "version": 2
   },
   "file_extension": ".py",
   "mimetype": "text/x-python",
   "name": "python",
   "nbconvert_exporter": "python",
   "pygments_lexer": "ipython2",
   "version": "2.7.6"
  }
 },
 "nbformat": 4,
 "nbformat_minor": 0
}