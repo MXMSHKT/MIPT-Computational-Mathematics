{
 "cells": [
  {
   "cell_type": "code",
   "execution_count": 1,
   "outputs": [
    {
     "name": "stdout",
     "output_type": "stream",
     "text": [
      "\n",
      "A:\n",
      "[[1 1 1]\n",
      " [0 1 2]\n",
      " [7 1 4]]\n",
      "\n",
      "inverse A:\n",
      "[[ 0.22222222 -0.33333333  0.11111111]\n",
      " [ 1.55555556 -0.33333333 -0.22222222]\n",
      " [-0.77777778  0.66666667  0.11111111]]\n",
      "\n",
      "\n",
      "real inverse A:\n",
      "[[ 0.22222222 -0.33333333  0.11111111]\n",
      " [ 1.55555556 -0.33333333 -0.22222222]\n",
      " [-0.77777778  0.66666667  0.11111111]]\n"
     ]
    }
   ],
   "source": [
    "import numpy as np\n",
    "import sympy as sp\n",
    "import numpy.linalg as la\n",
    "\n",
    "def solve( A, b ):\n",
    "    n = b.size\n",
    "    b = np.array(b,float)\n",
    "    for i in range(1,n):\n",
    "        b[i]=b[i] - np.dot(A[i,:i],b[:i])\n",
    "    for k in range(n-1,-1,-1):\n",
    "        b[k] = (b[k] - np.dot(A[k,k+1:n],b[k+1:n]))/A[k,k];\n",
    "\n",
    "    return b\n",
    "\n",
    "def LU_decomposition(A):\n",
    "    n = len(A)\n",
    "    L = np.zeros((n,n))\n",
    "    U = np.zeros((n,n))\n",
    "    for j in range(n):\n",
    "        L[j][j] = 1\n",
    "\n",
    "        for i in range(j+1):\n",
    "            s1 = 0\n",
    "            for k in range(i):\n",
    "                s1 += U[k][j] * L[i][k]\n",
    "            U[i][j] = A[i][j] - s1\n",
    "\n",
    "        for i in range(j, n):\n",
    "            s2 = 0\n",
    "            for k in range (j):\n",
    "                s2 += U[k][j] * L[i][k]\n",
    "            L[i][j] = (A[i][j] - s2) / U[j][j]\n",
    "\n",
    "    return (L,U)\n",
    "\n",
    "def MatrixInverse(A):\n",
    "    L, U = LU_decomposition(A)\n",
    "    N = len(A)\n",
    "    X = np.zeros((N,N))\n",
    "    for i in range(0, N):\n",
    "        e = np.zeros(N)\n",
    "        e[i] = 1\n",
    "\n",
    "        y = solve(L, e)\n",
    "        x = solve(U, y)\n",
    "\n",
    "        for j in range(0, N):\n",
    "            X[j][i] = x[j]\n",
    "    return (X)\n",
    "\n",
    "A = np.array([ [1, 1, 1], [0, 1, 2], [7, 1, 4] ])\n",
    "\n",
    "print(\"\\nA:\")\n",
    "print(A)\n",
    "print(\"\\ninverse A:\")\n",
    "print(MatrixInverse(A))\n",
    "\n",
    "print(\"\\n\\nreal inverse A:\")\n",
    "print(la.inv(A))\n",
    "\n",
    "\n",
    "\n"
   ],
   "metadata": {
    "collapsed": false,
    "pycharm": {
     "name": "#%%\n"
    }
   }
  }
 ],
 "metadata": {
  "kernelspec": {
   "display_name": "Python 3",
   "language": "python",
   "name": "python3"
  },
  "language_info": {
   "codemirror_mode": {
    "name": "ipython",
    "version": 2
   },
   "file_extension": ".py",
   "mimetype": "text/x-python",
   "name": "python",
   "nbconvert_exporter": "python",
   "pygments_lexer": "ipython2",
   "version": "2.7.6"
  }
 },
 "nbformat": 4,
 "nbformat_minor": 0
}