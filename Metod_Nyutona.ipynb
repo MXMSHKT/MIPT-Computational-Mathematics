{
 "cells": [
  {
   "cell_type": "markdown",
   "metadata": {},
   "source": [
    "### Метод Ньютона"
   ]
  },
  {
   "cell_type": "code",
   "execution_count": 40,
   "metadata": {},
   "outputs": [],
   "source": [
    "# простая реализация Метода Ньютона\n",
    "%matplotlib inline\n",
    "import matplotlib.pyplot as plt\n",
    "import numpy as np\n",
    "import math as m\n",
    "\n",
    "def newton(func, dfunc, x, tol = 1e-12):\n",
    "    sol = 0\n",
    "    p = lambda x: func(x)/dfunc(x)\n",
    "    iteration = 0\n",
    "    m = 1\n",
    "    dxs = []\n",
    "    xs = np.zeros(3)\n",
    "    for i in range(30):\n",
    "        iteration += 1\n",
    "        \n",
    "        if (dfunc(x) == 0): #Если производная 0, то сдвигаем на порешность\n",
    "            k = 1\n",
    "            while(abs(np.log(func(x)) - np.log(func(x + tol*(10**k)))) - tol < 0):\n",
    "                k = k + 1\n",
    "            dx = -p(x + (10**(k+1))*tol)\n",
    "        else:# для кратных корней, умножаем на коэфф m\n",
    "            if (iteration >3):\n",
    "                m = max(1, (xs[2]-xs[1])/(p(xs[2])-p(xs[1])))\n",
    "            dx = -int(m)*func(x)/dfunc(x)\n",
    "        \n",
    "        dxs.append(abs(dx))\n",
    "        x = x + dx\n",
    "        xs[0] = xs[1] #для избежания биения\n",
    "        xs[1] = xs[2]\n",
    "        xs[2] = x #делаем щаг из xs[2] \n",
    "        \n",
    "        if ( x == xs[0]):# для биения\n",
    "            x = x + dx\n",
    "        \n",
    "        if abs(dx) < tol:\n",
    "            sol = x\n",
    "            return [sol, iteration, dxs]\n",
    "        \n",
    "    sol = float('nan')\n",
    "    print('More then 30 iterations!')\n",
    "    return [sol, iteration]"
   ]
  },
  {
   "cell_type": "markdown",
   "metadata": {},
   "source": [
    "Формула m для нахождения порядка корня. \n",
    "Рассмотрим ф-ию $f=(x-a)^n$, тогда $$df=n(x-a)^{(n-1)}$$,\n",
    "получаем $$n=(x-a) \\dfrac{df}{f}$$. Применим это для $x_n$ и $x_{n-1}$"
   ]
  },
  {
   "cell_type": "markdown",
   "metadata": {},
   "source": [
    "#### Нелинейное уравнение 1"
   ]
  },
  {
   "cell_type": "code",
   "execution_count": 2,
   "metadata": {},
   "outputs": [
    {
     "data": {
      "text/plain": [
       "[<matplotlib.lines.Line2D at 0x1e71df87fc8>]"
      ]
     },
     "execution_count": 2,
     "metadata": {},
     "output_type": "execute_result"
    },
    {
     "data": {
      "image/png": "[encoded data removed]",
      "text/plain": [
       "<Figure size 432x288 with 1 Axes>"
      ]
     },
     "metadata": {
      "needs_background": "light"
     },
     "output_type": "display_data"
    }
   ],
   "source": [
    "x = np.linspace(-2,10)\n",
    "func0 = lambda x: x**3 - 10*x**2 + 5\n",
    "dfunc0 = lambda x: 3*x**2 - 20*x\n",
    "y = func0(x)\n",
    "plt.plot(x, y)"
   ]
  },
  {
   "cell_type": "markdown",
   "metadata": {},
   "source": [
    "1. Объяснить, почему различаются результаты в случае 1 и 2\n",
    "2. Объяснить, что происходит в случае 3\n",
    "3. Построить график порядка сходимости от номера итерации. Объяснить результат"
   ]
  },
  {
   "cell_type": "markdown",
   "metadata": {},
   "source": [
    "## Решение 1ого пункта"
   ]
  },
  {
   "cell_type": "markdown",
   "metadata": {},
   "source": [
    "Если рассмотреть графический метод Ньютона,то точка находится пересечением $y=0$ и касательной функции.В обоих случаях метод возрастает, но в первом случае корень правее $x_{0}$ один, а во втором их два. "
   ]
  },
  {
   "cell_type": "markdown",
   "metadata": {},
   "source": [
    "## Решение 2ого пункта"
   ]
  },
  {
   "cell_type": "markdown",
   "metadata": {},
   "source": [
    "В началной точке производная равна нулю, что нарушает условие сходимости метода и вызывает ошибку\n"
   ]
  },
  {
   "cell_type": "code",
   "execution_count": 41,
   "metadata": {},
   "outputs": [
    {
     "name": "stdout",
     "output_type": "stream",
     "text": [
      "sol =  9.949491057914388\n",
      "iter =  7\n",
      "---------------------\n",
      "sol =  0.7346035077893033\n",
      "iter =  4\n",
      "---------------------\n",
      "sol =  9.949491057914388\n",
      "iter =  15\n"
     ]
    }
   ],
   "source": [
    "data1 = newton(func0, dfunc0, 8) # случай 1\n",
    "data2 = newton(func0, dfunc0, 0.7) # случай 2\n",
    "data3 = newton(func0, dfunc0, 0.0) # случай 3\n",
    "print('sol = ', data1[0])\n",
    "print('iter = ', data1[1])\n",
    "print('---------------------')\n",
    "print('sol = ', data2[0])\n",
    "print('iter = ', data2[1])\n",
    "print('---------------------')\n",
    "print('sol = ', data3[0])\n",
    "print('iter = ', data3[1])"
   ]
  },
  {
   "cell_type": "markdown",
   "metadata": {},
   "source": [
    "## Решение 3ого пункта"
   ]
  },
  {
   "cell_type": "markdown",
   "metadata": {},
   "source": [
    "Из уравнения $|x^* - x_{n+1}| \\le \\alpha |x^* - x_n|^\\beta$ надо выделить $\\beta$, логорифмируя и помня, что $$x^* = x_0 + \\sum^{l-1}_{i=0}\\Delta x _i$$  $$x_k = x_0 + \\sum^{k-1}_{i=0}\\Delta x _i$$\n",
    "получаем:  $$\\beta = \\frac{\\ln\\left({\\sum^{l-1}_{i=n+1}\\Delta x _i}\\right) - \\ln\\left({\\sum^{l-1}_{i=n}\\Delta x _i}\\right)}{\\ln\\left({\\sum^{l-1}_{i=n}\\Delta x _i}\\right) - \\ln\\left({\\sum^{l-1}_{i=n-1}\\Delta x _i}\\right)} $$"
   ]
  },
  {
   "cell_type": "code",
   "execution_count": 4,
   "metadata": {},
   "outputs": [],
   "source": [
    "def bethas(func, dfunc, x):\n",
    "    dxs = newton(func, dfunc, x)[2]\n",
    "    length = len(dxs)\n",
    "    bethas = []\n",
    "    for n in range(1, length - 1):\n",
    "        bethas.append( ( np.log(sum(dxs[n+1:])) - np.log(sum(dxs[n:])) )/( np.log(sum(dxs[n:])) - np.log(sum(dxs[n-1:])) ) )\n",
    "    indexes = range(3, length + 1)\n",
    "    return bethas, indexes"
   ]
  },
  {
   "cell_type": "code",
   "execution_count": 26,
   "metadata": {},
   "outputs": [
    {
     "data": {
      "text/plain": [
       "Text(0.5, 1.0, '$x_0 = 8$')"
      ]
     },
     "execution_count": 26,
     "metadata": {},
     "output_type": "execute_result"
    },
    {
     "data": {
      "image/png": "[encoded data removed]",
      "text/plain": [
       "<Figure size 432x288 with 1 Axes>"
      ]
     },
     "metadata": {
      "needs_background": "light"
     },
     "output_type": "display_data"
    }
   ],
   "source": [
    "betha1, indexes1 = bethas(func0, dfunc0, 8)\n",
    "\n",
    "plt.plot(indexes1, betha1)\n",
    "plt.plot(indexes1, [2]*len(indexes1))\n",
    "plt.ylim(1, 2.2)\n",
    "plt.grid() \n",
    "plt.title('$x_0 = 8$', fontsize=14)\n"
   ]
  },
  {
   "cell_type": "code",
   "execution_count": 6,
   "metadata": {},
   "outputs": [
    {
     "data": {
      "text/plain": [
       "Text(0.5, 1.0, '$x_0 = 7$')"
      ]
     },
     "execution_count": 6,
     "metadata": {},
     "output_type": "execute_result"
    },
    {
     "data": {
      "image/png": "[encoded data removed]",
      "text/plain": [
       "<Figure size 432x288 with 1 Axes>"
      ]
     },
     "metadata": {
      "needs_background": "light"
     },
     "output_type": "display_data"
    }
   ],
   "source": [
    "betha2, indexes2 = bethas(func0, dfunc0, 0.7)\n",
    "\n",
    "plt.plot(indexes2, betha2)\n",
    "plt.plot(indexes2, [2]*len(indexes2))\n",
    "plt.ylim(1.96, 2.02)\n",
    "plt.grid() \n",
    "plt.title('$x_0 = 7$', fontsize=14)"
   ]
  },
  {
   "cell_type": "code",
   "execution_count": 7,
   "metadata": {},
   "outputs": [
    {
     "data": {
      "text/plain": [
       "Text(0.5, 1.0, '$x_0 = 0$')"
      ]
     },
     "execution_count": 7,
     "metadata": {},
     "output_type": "execute_result"
    },
    {
     "data": {
      "image/png": "[encoded data removed]",
      "text/plain": [
       "<Figure size 432x288 with 1 Axes>"
      ]
     },
     "metadata": {
      "needs_background": "light"
     },
     "output_type": "display_data"
    }
   ],
   "source": [
    "betha3, indexes3 = bethas(func0, dfunc0, 0.0)\n",
    "\n",
    "plt.plot(indexes3, betha3)\n",
    "plt.plot(indexes3, [2]*len(indexes3))\n",
    "plt.grid() \n",
    "plt.title('$x_0 = 0$', fontsize=14)"
   ]
  },
  {
   "cell_type": "markdown",
   "metadata": {},
   "source": [
    "В 1ом и 2ом слуаях порядок сходимости не превосходит 2.\n",
    "В 3ем случае тоже 2, кроме одной точки"
   ]
  },
  {
   "cell_type": "markdown",
   "metadata": {},
   "source": [
    "#### Нелинейное уравнение 2"
   ]
  },
  {
   "cell_type": "code",
   "execution_count": 8,
   "metadata": {},
   "outputs": [
    {
     "data": {
      "text/plain": [
       "[<matplotlib.lines.Line2D at 0x1e739459388>]"
      ]
     },
     "execution_count": 8,
     "metadata": {},
     "output_type": "execute_result"
    },
    {
     "data": {
      "image/png": "[encoded data removed]",
      "text/plain": [
       "<Figure size 432x288 with 1 Axes>"
      ]
     },
     "metadata": {
      "needs_background": "light"
     },
     "output_type": "display_data"
    }
   ],
   "source": [
    "x = np.linspace(0,5)\n",
    "func1 = lambda x: x**4 - 6.4*x**3 + 6.45*x**2 + 20.538*x - 31.752 #double root\n",
    "dfunc1 = lambda x: 4.0*x**3 - 19.2*x**2 + 12.9*x + 20.538\n",
    "y = func1(x)\n",
    "plt.plot(x, y)"
   ]
  },
  {
   "cell_type": "markdown",
   "metadata": {},
   "source": [
    "1. Построить график порядка сходимости от номера итерации. Объяснить результат"
   ]
  },
  {
   "cell_type": "code",
   "execution_count": 9,
   "metadata": {},
   "outputs": [
    {
     "name": "stdout",
     "output_type": "stream",
     "text": [
      "sol =  2.099999999033778\n",
      "iter =  5\n"
     ]
    },
    {
     "name": "stderr",
     "output_type": "stream",
     "text": [
      "c:\\users\\max\\appdata\\local\\programs\\python\\python37\\lib\\site-packages\\ipykernel_launcher.py:6: RuntimeWarning: divide by zero encountered in log\n",
      "  \n"
     ]
    },
    {
     "data": {
      "text/plain": [
       "Text(0.5, 1.0, '$x_0 = 2$')"
      ]
     },
     "execution_count": 9,
     "metadata": {},
     "output_type": "execute_result"
    },
    {
     "data": {
      "image/png": "[encoded data removed]",
      "text/plain": [
       "<Figure size 432x288 with 1 Axes>"
      ]
     },
     "metadata": {
      "needs_background": "light"
     },
     "output_type": "display_data"
    }
   ],
   "source": [
    "data = simple_newton(func1, dfunc1, 2)\n",
    "print('sol = ', data[0])\n",
    "print('iter = ', data[1])\n",
    "\n",
    "bethaz, indexes = bethas(func1, dfunc1, 2)\n",
    "plt.plot(indexes, bethaz)\n",
    "#plt.ylim(1, 2.6)\n",
    "plt.grid() \n",
    "plt.title('$x_0 = 2$', fontsize=14)"
   ]
  },
  {
   "cell_type": "markdown",
   "metadata": {},
   "source": [
    "Т.к сходимость в моем случаее линейна, то и мой newton сходится за меньшее итераций"
   ]
  },
  {
   "cell_type": "markdown",
   "metadata": {},
   "source": [
    "#### Нелинейное уравнение 3"
   ]
  },
  {
   "cell_type": "code",
   "execution_count": 19,
   "metadata": {},
   "outputs": [
    {
     "data": {
      "text/plain": [
       "[<matplotlib.lines.Line2D at 0x1e739691888>]"
      ]
     },
     "execution_count": 19,
     "metadata": {},
     "output_type": "execute_result"
    },
    {
     "data": {
      "image/png": "[encoded data removed]",
      "text/plain": [
       "<Figure size 432x288 with 1 Axes>"
      ]
     },
     "metadata": {
      "needs_background": "light"
     },
     "output_type": "display_data"
    }
   ],
   "source": [
    "x = np.linspace(0,2)\n",
    "func2 = lambda x: (x-1)**3\n",
    "dfunc2 = lambda x: 3*(x-1)**2\n",
    "y = func2(x)\n",
    "plt.plot(x, y)"
   ]
  },
  {
   "cell_type": "markdown",
   "metadata": {},
   "source": [
    "1. Подобрать начальное приближение и решить задачу"
   ]
  },
  {
   "cell_type": "code",
   "execution_count": 61,
   "metadata": {},
   "outputs": [
    {
     "name": "stdout",
     "output_type": "stream",
     "text": [
      "sol =  0.9999999999999999\n",
      "iter =  5\n",
      "x0 = -10   sol = 1.0\n",
      "iter = 5\n",
      "x0 = -9   sol = 1.0000000000000002\n",
      "iter = 5\n",
      "x0 = -8   sol = 1.0000000000000002\n",
      "iter = 5\n",
      "More then 30 iterations!\n",
      "x0 = -7   sol = nan\n",
      "iter = 30\n",
      "More then 30 iterations!\n",
      "x0 = -6   sol = nan\n",
      "iter = 30\n",
      "x0 = -5   sol = 1.0\n",
      "iter = 6\n",
      "x0 = -4   sol = 1.0000000000000002\n",
      "iter = 5\n",
      "x0 = -3   sol = 1.0\n",
      "iter = 5\n",
      "More then 30 iterations!\n",
      "x0 = -2   sol = nan\n",
      "iter = 30\n",
      "More then 30 iterations!\n",
      "x0 = -1   sol = nan\n",
      "iter = 30\n",
      "More then 30 iterations!\n",
      "x0 = 0   sol = nan\n",
      "iter = 30\n",
      "More then 30 iterations!\n",
      "x0 = 1   sol = nan\n",
      "iter = 30\n",
      "More then 30 iterations!\n",
      "x0 = 2   sol = nan\n",
      "iter = 30\n",
      "More then 30 iterations!\n",
      "x0 = 3   sol = nan\n",
      "iter = 30\n",
      "More then 30 iterations!\n",
      "x0 = 4   sol = nan\n",
      "iter = 30\n",
      "More then 30 iterations!\n",
      "x0 = 5   sol = nan\n",
      "iter = 30\n",
      "x0 = 6   sol = 0.9999999999999999\n",
      "iter = 5\n",
      "More then 30 iterations!\n",
      "x0 = 7   sol = nan\n",
      "iter = 30\n",
      "More then 30 iterations!\n",
      "x0 = 8   sol = nan\n",
      "iter = 30\n",
      "More then 30 iterations!\n",
      "x0 = 9   sol = nan\n",
      "iter = 30\n",
      "x0 = 10   sol = 1.0\n",
      "iter = 5\n",
      "x0 = 11   sol = 0.9999999999999999\n",
      "iter = 5\n",
      "x0 = 12   sol = 1.0\n",
      "iter = 5\n",
      "x0 = 13   sol = 1.0\n",
      "iter = 6\n",
      "x0 = 14   sol = 1.0\n",
      "iter = 6\n"
     ]
    },
    {
     "name": "stderr",
     "output_type": "stream",
     "text": [
      "c:\\users\\max\\appdata\\local\\programs\\python\\python37\\lib\\site-packages\\ipykernel_launcher.py:19: RuntimeWarning: divide by zero encountered in log\n",
      "c:\\users\\max\\appdata\\local\\programs\\python\\python37\\lib\\site-packages\\ipykernel_launcher.py:9: RuntimeWarning: invalid value encountered in double_scalars\n",
      "  if __name__ == '__main__':\n"
     ]
    }
   ],
   "source": [
    "data = newton(func2, dfunc2, 6)\n",
    "print('sol = ', data[0])\n",
    "print('iter = ', data[1])\n",
    "\n",
    "for i in range(-10, 15):\n",
    "    result = newton(func2, dfunc2, i )\n",
    "    print('x0 =', i , end='   ')\n",
    "    print('sol =', result[0])\n",
    "    print('iter =', result[1])"
   ]
  },
  {
   "cell_type": "markdown",
   "metadata": {},
   "source": [
    "#### Нелинейное уравнение 4"
   ]
  },
  {
   "cell_type": "code",
   "execution_count": 65,
   "metadata": {},
   "outputs": [
    {
     "data": {
      "text/plain": [
       "[<matplotlib.lines.Line2D at 0x1e73a8f2f08>]"
      ]
     },
     "execution_count": 65,
     "metadata": {},
     "output_type": "execute_result"
    },
    {
     "data": {
      "image/png": "[encoded data removed]",
      "text/plain": [
       "<Figure size 432x288 with 1 Axes>"
      ]
     },
     "metadata": {
      "needs_background": "light"
     },
     "output_type": "display_data"
    }
   ],
   "source": [
    "x = np.linspace(-0.5,1.5)\n",
    "#x = np.linspace(-5,5)\n",
    "func3 = lambda x: x**3 - 2*x + 2\n",
    "dfunc3 = lambda x: 3*x**2 - 2\n",
    "y = func3(x)\n",
    "plt.plot(x, y)"
   ]
  },
  {
   "cell_type": "markdown",
   "metadata": {},
   "source": [
    "1. Почему не находится решение во втором случае?"
   ]
  },
  {
   "cell_type": "code",
   "execution_count": 71,
   "metadata": {},
   "outputs": [
    {
     "name": "stdout",
     "output_type": "stream",
     "text": [
      "sol =  -1.7692923542386314\n",
      "iter =  10\n",
      "[1.0, 1.0, 3.0, 25.82608695652174, 21.769116598062816, 1.8954721658280904, 0.5868834204158029, 3.535412164817924, 1.2788781463488197, 8.059213398789128, 2.9249296559710976, 3.8291379884829686, 0.6736040758579082, 0.3059550197481985, 0.05681265140119353, 0.0023625950859257104, 4.012085936081837e-06, 1.155960731369025e-11, 0.0]\n",
      "--------------------------------\n",
      "sol =  -1.7692923542386314\n",
      "iter =  19\n"
     ]
    }
   ],
   "source": [
    "data1 = newton(func3, dfunc3, 0.5) # случай 1\n",
    "data2 = newton(func3, dfunc3, 0) # случай 2\n",
    "print('sol = ', data1[0])\n",
    "print('iter = ', data1[1])\n",
    "#print(data2[2])\n",
    "print('--------------------------------')\n",
    "print('sol = ', data2[0])\n",
    "print('iter = ', data2[1])"
   ]
  },
  {
   "cell_type": "markdown",
   "metadata": {},
   "source": [
    "Решение не находится из-за биений"
   ]
  },
  {
   "cell_type": "code",
   "execution_count": null,
   "metadata": {},
   "outputs": [],
   "source": []
  }
 ],
 "metadata": {
  "anaconda-cloud": {},
  "kernelspec": {
   "display_name": "Python 3",
   "language": "python",
   "name": "python3"
  },
  "language_info": {
   "codemirror_mode": {
    "name": "ipython",
    "version": 3
   },
   "file_extension": ".py",
   "mimetype": "text/x-python",
   "name": "python",
   "nbconvert_exporter": "python",
   "pygments_lexer": "ipython3",
   "version": "3.7.8"
  }
 },
 "nbformat": 4,
 "nbformat_minor": 1
}
